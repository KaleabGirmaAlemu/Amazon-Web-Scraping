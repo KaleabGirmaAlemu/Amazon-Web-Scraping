{
 "cells": [
  {
   "cell_type": "code",
   "execution_count": 11,
   "id": "612965dd-a309-4b3a-943d-ecbb826dfc67",
   "metadata": {},
   "outputs": [],
   "source": [
    "\n",
    "from bs4 import BeautifulSoup\n",
    "import requests\n",
    "import time\n",
    "import datetime\n",
    "import smtplib"
   ]
  },
  {
   "cell_type": "code",
   "execution_count": 12,
   "id": "3b8e3f53-65cf-438b-81f3-122c049d8914",
   "metadata": {},
   "outputs": [],
   "source": [
    "# Connect to Website and pull in data\n",
    "\n",
    "URL = 'https://www.amazon.com/Analyst-Graduate-Career-Professional-Spreadsheet/dp/B0C1M17KKT/ref=sr_1_1?crid=K0UPPX4X7VBN&dib=eyJ2IjoiMSJ9.KEhZNoiS_9aZRnvUMTy2C26JZRiMC8bzx4SJEq-8rK0U1vLgHYFAKwjF1tGsnLgfgt4pp3dyyDb1o0iuK_lsmghsv3iTLLcdA0kRs9qzxGWXvMx3FDxuRoTGmczrYWfdcsuadjpTQfVCf9cmxzS450_qjZGI9d3FSEez5tYG8u4uFMd2Q8LhoOLNvsRCLHqPVLkpejxk8ehXYcbMOCmsXFfZtzR7rHpfZ2O_7G-kOaXZPQcENZvXQxP4bspEda7wI36yTmWQTfbrEBe9vGlV1UUJf1OtVYmnsIomqwPlbpU.BWxeZIw08-hyIRo_8gfy0I1KiOLzvKx4rn6-ms9gIYc&dib_tag=se&keywords=data%2Banalyst%2Btshirt&qid=1713765870&sprefix=data%2Banalyst%2Caps%2C714&sr=8-1&th=1'"
   ]
  },
  {
   "cell_type": "code",
   "execution_count": 18,
   "id": "5fe82395-cb43-4167-8dcd-061fc6b16067",
   "metadata": {},
   "outputs": [
    {
     "name": "stdout",
     "output_type": "stream",
     "text": [
      "\n",
      "                    Data Analyst T Shirt Funny Gift for Data Analyst Graduate Career Professional Data Analyst Spreadsheet Unisex Tee\n",
      "                   \n",
      "\n",
      "                        $23.97\n",
      "                       \n"
     ]
    }
   ],
   "source": [
    "headers = {\"User-Agent\": \"Mozilla/5.0 (Windows NT 10.0; Win64; x64) AppleWebKit/537.36 (KHTML, like Gecko)  Chrome/124.0.0.0 Safari/537.36\", \"Accept-Encoding\":\"gzip, deflate\", \"Accept\":\"text/html,application/xhtml+xml,application/xml;q=0.9,*/*;q=0.8\", \"DNT\":\"1\",\"Connection\":\"close\", \"Upgrade-Insecure-Requests\":\"1\"}\n",
    "page = requests.get(URL, headers=headers)\n",
    "soup1 = BeautifulSoup(page.content, \"html.parser\")\n",
    "soup2 = BeautifulSoup(soup1.prettify(), \"html.parser\")\n",
    "\n",
    "title = soup2.find(id='productTitle').get_text()\n",
    "price = soup2.find(class_='a-offscreen').get_text()\n",
    "print(title)\n",
    "print(price)"
   ]
  },
  {
   "cell_type": "code",
   "execution_count": 25,
   "id": "c846b3c6-69ec-4714-aa2b-5392b37759dc",
   "metadata": {},
   "outputs": [
    {
     "name": "stdout",
     "output_type": "stream",
     "text": [
      "2024-04-22\n"
     ]
    }
   ],
   "source": [
    "# Create a Timestamp for your output to track when data was collected\n",
    "\n",
    "import datetime\n",
    "\n",
    "today = datetime.date.today()\n",
    "\n",
    "print(today)"
   ]
  },
  {
   "cell_type": "code",
   "execution_count": 21,
   "id": "cf874ea4-27d9-4186-8541-378e2858af28",
   "metadata": {},
   "outputs": [
    {
     "data": {
      "text/plain": [
       "'23.97'"
      ]
     },
     "execution_count": 21,
     "metadata": {},
     "output_type": "execute_result"
    }
   ],
   "source": [
    "price.strip()[1:]"
   ]
  },
  {
   "cell_type": "code",
   "execution_count": 29,
   "id": "1fbbf282-865b-4403-ac8e-e615b6156ba2",
   "metadata": {},
   "outputs": [],
   "source": [
    "import csv\n",
    "header = ['title','price','date']\n",
    "data = [title, price, today]\n",
    "with open('AmazonWebScraperDataset.csv', 'w', newline='', encoding='UTF8') as f:\n",
    "            writer = csv.writer(f)\n",
    "            writer.writerow(header)\n",
    "            writer.writerow(data)\n",
    "    "
   ]
  },
  {
   "cell_type": "code",
   "execution_count": 37,
   "id": "7088b727-e8bd-435d-940a-bc853957e020",
   "metadata": {},
   "outputs": [],
   "source": [
    "import pandas as pd\n",
    "df=pd.read_csv(r\"C:\\Users\\Kaleab\\AmazonWebScraperDataset.csv\")"
   ]
  },
  {
   "cell_type": "code",
   "execution_count": 38,
   "id": "d08254b0-19c0-4a64-8311-ef09caa3e0c1",
   "metadata": {},
   "outputs": [
    {
     "data": {
      "text/html": [
       "<div>\n",
       "<style scoped>\n",
       "    .dataframe tbody tr th:only-of-type {\n",
       "        vertical-align: middle;\n",
       "    }\n",
       "\n",
       "    .dataframe tbody tr th {\n",
       "        vertical-align: top;\n",
       "    }\n",
       "\n",
       "    .dataframe thead th {\n",
       "        text-align: right;\n",
       "    }\n",
       "</style>\n",
       "<table border=\"1\" class=\"dataframe\">\n",
       "  <thead>\n",
       "    <tr style=\"text-align: right;\">\n",
       "      <th></th>\n",
       "      <th>title</th>\n",
       "      <th>price</th>\n",
       "      <th>date</th>\n",
       "    </tr>\n",
       "  </thead>\n",
       "  <tbody>\n",
       "    <tr>\n",
       "      <th>0</th>\n",
       "      <td>\\n                    Data Analyst T Shirt Fun...</td>\n",
       "      <td>\\n                        $23.97\\n            ...</td>\n",
       "      <td>2024-04-22</td>\n",
       "    </tr>\n",
       "    <tr>\n",
       "      <th>1</th>\n",
       "      <td>\\n                    Data Analyst T Shirt Fun...</td>\n",
       "      <td>\\n                        $23.97\\n            ...</td>\n",
       "      <td>2024-04-22</td>\n",
       "    </tr>\n",
       "    <tr>\n",
       "      <th>2</th>\n",
       "      <td>\\n                    Data Analyst T Shirt Fun...</td>\n",
       "      <td>\\n                        $23.97\\n            ...</td>\n",
       "      <td>2024-04-22</td>\n",
       "    </tr>\n",
       "    <tr>\n",
       "      <th>3</th>\n",
       "      <td>\\n                    Data Analyst T Shirt Fun...</td>\n",
       "      <td>\\n                        $23.97\\n            ...</td>\n",
       "      <td>2024-04-22</td>\n",
       "    </tr>\n",
       "  </tbody>\n",
       "</table>\n",
       "</div>"
      ],
      "text/plain": [
       "                                               title  \\\n",
       "0  \\n                    Data Analyst T Shirt Fun...   \n",
       "1  \\n                    Data Analyst T Shirt Fun...   \n",
       "2  \\n                    Data Analyst T Shirt Fun...   \n",
       "3  \\n                    Data Analyst T Shirt Fun...   \n",
       "\n",
       "                                               price        date  \n",
       "0  \\n                        $23.97\\n            ...  2024-04-22  \n",
       "1  \\n                        $23.97\\n            ...  2024-04-22  \n",
       "2  \\n                        $23.97\\n            ...  2024-04-22  \n",
       "3  \\n                        $23.97\\n            ...  2024-04-22  "
      ]
     },
     "execution_count": 38,
     "metadata": {},
     "output_type": "execute_result"
    }
   ],
   "source": [
    "df"
   ]
  },
  {
   "cell_type": "code",
   "execution_count": 35,
   "id": "a11fb9dd-f1ed-4d94-b835-6bbe98441b27",
   "metadata": {},
   "outputs": [],
   "source": [
    "# we are iterating the data again and again\n",
    "with open('AmazonWebScraperDataset.csv', 'a+', newline='', encoding='UTF8') as f:\n",
    "            writer = csv.writer(f)       \n",
    "            writer.writerow(data)"
   ]
  },
  {
   "cell_type": "code",
   "execution_count": null,
   "id": "ae070dc1-69aa-4688-8950-13ab12492fd8",
   "metadata": {},
   "outputs": [],
   "source": [
    "\n",
    "def check_price():\n",
    "    \n",
    "    URL = 'https://www.amazon.com/Analyst-Graduate-Career-Professional-Spreadsheet/dp/B0C1M17KKT/ref=sr_1_1?crid=K0UPPX4X7VBN&dib=eyJ2IjoiMSJ9.KEhZNoiS_9aZRnvUMTy2C26JZRiMC8bzx4SJEq-8rK0U1vLgHYFAKwjF1tGsnLgfgt4pp3dyyDb1o0iuK_lsmghsv3iTLLcdA0kRs9qzxGWXvMx3FDxuRoTGmczrYWfdcsuadjpTQfVCf9cmxzS450_qjZGI9d3FSEez5tYG8u4uFMd2Q8LhoOLNvsRCLHqPVLkpejxk8ehXYcbMOCmsXFfZtzR7rHpfZ2O_7G-kOaXZPQcENZvXQxP4bspEda7wI36yTmWQTfbrEBe9vGlV1UUJf1OtVYmnsIomqwPlbpU.BWxeZIw08-hyIRo_8gfy0I1KiOLzvKx4rn6-ms9gIYc&dib_tag=se&keywords=data%2Banalyst%2Btshirt&qid=1713765870&sprefix=data%2Banalyst%2Caps%2C714&sr=8-1&th=1'\n",
    "    headers = {\"User-Agent\": \"Mozilla/5.0 (Windows NT 10.0; Win64; x64) AppleWebKit/537.36 (KHTML, like Gecko)  Chrome/124.0.0.0 Safari/537.36\", \"Accept-Encoding\":\"gzip, deflate\", \"Accept\":\"text/html,application/xhtml+xml,application/xml;q=0.9,*/*;q=0.8\", \"DNT\":\"1\",\"Connection\":\"close\", \"Upgrade-Insecure-Requests\":\"1\"}\n",
    "\n",
    "\n",
    "    page = requests.get(URL, headers=headers)\n",
    "\n",
    "    soup1 = BeautifulSoup(page.content, \"html.parser\")\n",
    "\n",
    "    soup2 = BeautifulSoup(soup1.prettify(), \"html.parser\")\n",
    "\n",
    "    title = soup2.find(id='productTitle').get_text()\n",
    "    price = soup2.find(class_='a-offscreen').get_text()\n",
    "\n",
    "    price = price.strip()[1:]\n",
    "    title = title.strip()\n",
    "\n",
    "    import datetime\n",
    "\n",
    "    today = datetime.date.today()\n",
    "    \n",
    "    import csv \n",
    "\n",
    "    header = ['Title', 'Price', 'Date']\n",
    "    data = [title, price, today]\n",
    "\n",
    "    with open('AmazonWebScraperDataset.csv', 'a+', newline='', encoding='UTF8') as f:\n",
    "        writer = csv.writer(f)\n",
    "        writer.writerow(data)\n",
    " \n",
    "    "
   ]
  },
  {
   "cell_type": "code",
   "execution_count": null,
   "id": "e7ff150f-a9ac-4831-bf5f-86eab86c798a",
   "metadata": {},
   "outputs": [],
   "source": [
    "# this wev scraping run for 10 hr\n",
    "while(True):\n",
    "    check_price()\n",
    "    time.sleep(36000)"
   ]
  },
  {
   "cell_type": "code",
   "execution_count": null,
   "id": "97204d8c-58ca-476c-b146-5a1d6540e443",
   "metadata": {},
   "outputs": [],
   "source": [
    "import pandas as pd\n",
    "df=pd.read_csv(r\"C:\\Users\\Kaleab\\AmazonWebScraperDataset.csv\")"
   ]
  },
  {
   "cell_type": "code",
   "execution_count": null,
   "id": "466d9196-75d6-40a2-851a-83857f4db92e",
   "metadata": {},
   "outputs": [],
   "source": [
    "df"
   ]
  },
  {
   "cell_type": "code",
   "execution_count": null,
   "id": "092c9d1b-80f0-47d2-8d20-e861b0c1e168",
   "metadata": {},
   "outputs": [],
   "source": [
    "# If uou want to try sending yourself an email (just for fun) when a price hits below a certain level you can try it\n",
    "# out with this script\n",
    "\n",
    "def send_mail():\n",
    "    server = smtplib.SMTP_SSL('smtp.gmail.com',465)\n",
    "    server.ehlo()\n",
    "    #server.starttls()\n",
    "    server.ehlo()\n",
    "    server.login('kaleabgirma2143@gmail.com','xxxxxxxxxxxxx.')\n",
    "    \n",
    "    subject = \"The Shirt you want is below $15! Now is your chance to buy!\"\n",
    "    body = \"Kaleab, This is the moment we have been waiting for. Now is your chance to pick up the shirt of your dreams. Don't mess it up! Link here: https://www.amazon.com/Funny-Data-Systems-Business-Analyst/dp/B07FNW9FGJ/ref=sr_1_3?dchild=1&keywords=data+analyst+tshirt&qid=1626655184&sr=8-3\"\n",
    "   \n",
    "    msg = f\"Subject: {subject}\\n\\n{body}\"\n",
    "    \n",
    "    server.sendmail(\n",
    "        'kaleabgirma2143@gmail.com',\n",
    "        msg\n",
    "     \n",
    "    )"
   ]
  },
  {
   "cell_type": "code",
   "execution_count": null,
   "id": "d188d520-3a2e-4317-af0a-5f76fa9d6626",
   "metadata": {},
   "outputs": [],
   "source": []
  }
 ],
 "metadata": {
  "kernelspec": {
   "display_name": "Python 3 (ipykernel)",
   "language": "python",
   "name": "python3"
  },
  "language_info": {
   "codemirror_mode": {
    "name": "ipython",
    "version": 3
   },
   "file_extension": ".py",
   "mimetype": "text/x-python",
   "name": "python",
   "nbconvert_exporter": "python",
   "pygments_lexer": "ipython3",
   "version": "3.11.7"
  }
 },
 "nbformat": 4,
 "nbformat_minor": 5
}
